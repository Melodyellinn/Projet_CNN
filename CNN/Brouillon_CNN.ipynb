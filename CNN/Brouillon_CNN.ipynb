{
 "cells": [
  {
   "cell_type": "markdown",
   "id": "09bd06c9",
   "metadata": {},
   "source": [
    "Contexte du projet\n",
    "Vous travaillez dans une startup edtech qui offre des services de vulgarisation de l'IA. Votre client souhaite avoir un outil de démo pour expliquer comment ça fonctionne un réseau de neurones.\n",
    "\n",
    "​\n",
    "\n",
    "Votre premier objectif est de créer un modèle de deep learning pour classifier des lettres. Ensuite, vous devez développer l'interface utilisateur (avec streamlit) qui vous permet de déssiner une lettre (ou choisir aléatoirement une lettre d'un dataset d'images) et de détecter s'il correspond à une lettre entre A & Z.\n",
    "\n",
    "​\n",
    "\n",
    "source image : https://www.mdpi.com/2076-3417/9/15/3169\n",
    "\n",
    "​\n",
    "\n",
    "Pour l'interface utilisateur, votre première version streamlit doit être capable de montrer une image aléatoire du dataset test. Ensuite, grâce à un bouton \"predict\", votre modèle peut prédire le bon nombre et afficher le résultat dans l'interface. À la fin, l'interface doit vous permettre avec un bouton de valider si votre modèle a correctement classé l'image ou non.\n",
    "\n",
    "​\n",
    "\n",
    "Dans un deuxièmet temps, vous pouvez faire évoluer votre interface comme un jeu. Dans cette deuxième version, l'interface doit vous permettre de dessiner un nombre et le transformer en image. Cette image va ensuite être utilisée par le modèle pour prédire le bon nombre et afficher le résultat. L'idée derrière est de donner 10 opportunités à votre modèle de détecter le chiffre dessiné et donner des stats à la fin par rapport à sa performance de prédiction.\n",
    "\n",
    "​\n",
    "\n",
    "Vous pouvez vous insprer de cette interface pour faire évoluer votre démo : https://www.cs.ryerson.ca/~aharley/vis/conv/flat.html"
   ]
  },
  {
   "cell_type": "markdown",
   "id": "965efae4",
   "metadata": {},
   "source": [
    "Critères de performance  \n",
    "performance des modèles de prédiction  \n",
    "capacité à apporter une solution dans le temps imparti  \n",
    "qualité du synthèse du travail"
   ]
  },
  {
   "cell_type": "markdown",
   "id": "12de9449",
   "metadata": {},
   "source": [
    "Modalités d'évaluation  \n",
    "Auto-évaluation avec charte de réflexivité  \n",
    "Présentation orale - 10 min (Q/A inclus)  \n",
    "Pré-planning du projet  \n",
    "Code review via github  \n",
    "Vous devez commencer avec des apprenants de la P15 et continuer à travailler en individuel ou en équipe, à vous de voir."
   ]
  },
  {
   "cell_type": "markdown",
   "id": "9ece8257",
   "metadata": {},
   "source": [
    "Livrables  \n",
    "- créer un repo git et un espace sur github/gitlab pour le projet  \n",
    "- présenter un planning de travail  \n",
    "- présenter la procédure suivi pour trouver un modèle adapté (notebook_model)  \n",
    "- créer un modèle d'IA entraîné et adapté au problème (format pickle ou h5)  \n",
    "- créer et présenter l'interface utilisateur   \n",
    "- faire une présentation qui explique votre démarche et les résultats obtenus (10 min maximum avec la démo inclus )  "
   ]
  },
  {
   "cell_type": "code",
   "execution_count": 1,
   "id": "079c7e69",
   "metadata": {},
   "outputs": [],
   "source": [
    "import numpy as np\n",
    "import pandas as pd\n",
    "import seaborn as sns\n",
    "import matplotlib.pyplot as plt\n",
    "from math import *\n",
    "import keras \n",
    "import tensorflow as tf"
   ]
  },
  {
   "cell_type": "code",
   "execution_count": 2,
   "id": "70dbd6e7",
   "metadata": {},
   "outputs": [],
   "source": [
    "train = pd.read_csv(\"train.csv\")\n",
    "test = pd.read_csv(\"test.csv\")"
   ]
  },
  {
   "cell_type": "code",
   "execution_count": 3,
   "id": "354adfab",
   "metadata": {},
   "outputs": [],
   "source": [
    "y = train[\"label\"]\n",
    "X = train.drop(labels = [\"label\"],axis = 1)"
   ]
  },
  {
   "cell_type": "code",
   "execution_count": 4,
   "id": "9bdb57e9",
   "metadata": {},
   "outputs": [
    {
     "data": {
      "text/html": [
       "<div><div id=986c665b-299f-408b-a5bf-f8bb82e455af style=\"display:none; background-color:#9D6CFF; color:white; width:200px; height:30px; padding-left:5px; border-radius:4px; flex-direction:row; justify-content:space-around; align-items:center;\" onmouseover=\"this.style.backgroundColor='#BA9BF8'\" onmouseout=\"this.style.backgroundColor='#9D6CFF'\" onclick=\"window.commands?.execute('create-mitosheet-from-dataframe-output');\">See Full Dataframe in Mito</div> <script> if (window.commands.hasCommand('create-mitosheet-from-dataframe-output')) document.getElementById('986c665b-299f-408b-a5bf-f8bb82e455af').style.display = 'flex' </script> <table border=\"1\" class=\"dataframe\">\n",
       "  <thead>\n",
       "    <tr style=\"text-align: right;\">\n",
       "      <th></th>\n",
       "      <th>label</th>\n",
       "      <th>pixel0</th>\n",
       "      <th>pixel1</th>\n",
       "      <th>pixel2</th>\n",
       "      <th>pixel3</th>\n",
       "      <th>pixel4</th>\n",
       "      <th>pixel5</th>\n",
       "      <th>pixel6</th>\n",
       "      <th>pixel7</th>\n",
       "      <th>pixel8</th>\n",
       "      <th>...</th>\n",
       "      <th>pixel774</th>\n",
       "      <th>pixel775</th>\n",
       "      <th>pixel776</th>\n",
       "      <th>pixel777</th>\n",
       "      <th>pixel778</th>\n",
       "      <th>pixel779</th>\n",
       "      <th>pixel780</th>\n",
       "      <th>pixel781</th>\n",
       "      <th>pixel782</th>\n",
       "      <th>pixel783</th>\n",
       "    </tr>\n",
       "  </thead>\n",
       "  <tbody>\n",
       "    <tr>\n",
       "      <th>0</th>\n",
       "      <td>1</td>\n",
       "      <td>0</td>\n",
       "      <td>0</td>\n",
       "      <td>0</td>\n",
       "      <td>0</td>\n",
       "      <td>0</td>\n",
       "      <td>0</td>\n",
       "      <td>0</td>\n",
       "      <td>0</td>\n",
       "      <td>0</td>\n",
       "      <td>...</td>\n",
       "      <td>0</td>\n",
       "      <td>0</td>\n",
       "      <td>0</td>\n",
       "      <td>0</td>\n",
       "      <td>0</td>\n",
       "      <td>0</td>\n",
       "      <td>0</td>\n",
       "      <td>0</td>\n",
       "      <td>0</td>\n",
       "      <td>0</td>\n",
       "    </tr>\n",
       "    <tr>\n",
       "      <th>1</th>\n",
       "      <td>0</td>\n",
       "      <td>0</td>\n",
       "      <td>0</td>\n",
       "      <td>0</td>\n",
       "      <td>0</td>\n",
       "      <td>0</td>\n",
       "      <td>0</td>\n",
       "      <td>0</td>\n",
       "      <td>0</td>\n",
       "      <td>0</td>\n",
       "      <td>...</td>\n",
       "      <td>0</td>\n",
       "      <td>0</td>\n",
       "      <td>0</td>\n",
       "      <td>0</td>\n",
       "      <td>0</td>\n",
       "      <td>0</td>\n",
       "      <td>0</td>\n",
       "      <td>0</td>\n",
       "      <td>0</td>\n",
       "      <td>0</td>\n",
       "    </tr>\n",
       "    <tr>\n",
       "      <th>2</th>\n",
       "      <td>1</td>\n",
       "      <td>0</td>\n",
       "      <td>0</td>\n",
       "      <td>0</td>\n",
       "      <td>0</td>\n",
       "      <td>0</td>\n",
       "      <td>0</td>\n",
       "      <td>0</td>\n",
       "      <td>0</td>\n",
       "      <td>0</td>\n",
       "      <td>...</td>\n",
       "      <td>0</td>\n",
       "      <td>0</td>\n",
       "      <td>0</td>\n",
       "      <td>0</td>\n",
       "      <td>0</td>\n",
       "      <td>0</td>\n",
       "      <td>0</td>\n",
       "      <td>0</td>\n",
       "      <td>0</td>\n",
       "      <td>0</td>\n",
       "    </tr>\n",
       "    <tr>\n",
       "      <th>3</th>\n",
       "      <td>4</td>\n",
       "      <td>0</td>\n",
       "      <td>0</td>\n",
       "      <td>0</td>\n",
       "      <td>0</td>\n",
       "      <td>0</td>\n",
       "      <td>0</td>\n",
       "      <td>0</td>\n",
       "      <td>0</td>\n",
       "      <td>0</td>\n",
       "      <td>...</td>\n",
       "      <td>0</td>\n",
       "      <td>0</td>\n",
       "      <td>0</td>\n",
       "      <td>0</td>\n",
       "      <td>0</td>\n",
       "      <td>0</td>\n",
       "      <td>0</td>\n",
       "      <td>0</td>\n",
       "      <td>0</td>\n",
       "      <td>0</td>\n",
       "    </tr>\n",
       "    <tr>\n",
       "      <th>4</th>\n",
       "      <td>0</td>\n",
       "      <td>0</td>\n",
       "      <td>0</td>\n",
       "      <td>0</td>\n",
       "      <td>0</td>\n",
       "      <td>0</td>\n",
       "      <td>0</td>\n",
       "      <td>0</td>\n",
       "      <td>0</td>\n",
       "      <td>0</td>\n",
       "      <td>...</td>\n",
       "      <td>0</td>\n",
       "      <td>0</td>\n",
       "      <td>0</td>\n",
       "      <td>0</td>\n",
       "      <td>0</td>\n",
       "      <td>0</td>\n",
       "      <td>0</td>\n",
       "      <td>0</td>\n",
       "      <td>0</td>\n",
       "      <td>0</td>\n",
       "    </tr>\n",
       "  </tbody>\n",
       "</table></div>"
      ],
      "text/plain": [
       "   label  pixel0  pixel1  pixel2  pixel3  pixel4  pixel5  pixel6  pixel7  \\\n",
       "0      1       0       0       0       0       0       0       0       0   \n",
       "1      0       0       0       0       0       0       0       0       0   \n",
       "2      1       0       0       0       0       0       0       0       0   \n",
       "3      4       0       0       0       0       0       0       0       0   \n",
       "4      0       0       0       0       0       0       0       0       0   \n",
       "\n",
       "   pixel8  ...  pixel774  pixel775  pixel776  pixel777  pixel778  pixel779  \\\n",
       "0       0  ...         0         0         0         0         0         0   \n",
       "1       0  ...         0         0         0         0         0         0   \n",
       "2       0  ...         0         0         0         0         0         0   \n",
       "3       0  ...         0         0         0         0         0         0   \n",
       "4       0  ...         0         0         0         0         0         0   \n",
       "\n",
       "   pixel780  pixel781  pixel782  pixel783  \n",
       "0         0         0         0         0  \n",
       "1         0         0         0         0  \n",
       "2         0         0         0         0  \n",
       "3         0         0         0         0  \n",
       "4         0         0         0         0  \n",
       "\n",
       "[5 rows x 785 columns]"
      ]
     },
     "execution_count": 4,
     "metadata": {},
     "output_type": "execute_result"
    }
   ],
   "source": [
    "train.head()"
   ]
  },
  {
   "cell_type": "code",
   "execution_count": 5,
   "id": "aa80768b",
   "metadata": {},
   "outputs": [
    {
     "data": {
      "text/plain": [
       "1    4684\n",
       "7    4401\n",
       "3    4351\n",
       "9    4188\n",
       "2    4177\n",
       "6    4137\n",
       "0    4132\n",
       "4    4072\n",
       "8    4063\n",
       "5    3795\n",
       "Name: label, dtype: int64"
      ]
     },
     "execution_count": 5,
     "metadata": {},
     "output_type": "execute_result"
    }
   ],
   "source": [
    "y.value_counts()"
   ]
  },
  {
   "cell_type": "code",
   "execution_count": 6,
   "id": "214721f8",
   "metadata": {},
   "outputs": [
    {
     "data": {
      "text/plain": [
       "<AxesSubplot:xlabel='label', ylabel='count'>"
      ]
     },
     "execution_count": 6,
     "metadata": {},
     "output_type": "execute_result"
    },
    {
     "data": {
      "image/png": "[encoded data removed]",
      "text/plain": [
       "<Figure size 432x288 with 1 Axes>"
      ]
     },
     "metadata": {
      "needs_background": "light"
     },
     "output_type": "display_data"
    }
   ],
   "source": [
    "sns.countplot(x= y)"
   ]
  },
  {
   "cell_type": "code",
   "execution_count": 7,
   "id": "97fd504c",
   "metadata": {
    "scrolled": true
   },
   "outputs": [
    {
     "data": {
      "text/plain": [
       "(42000, 784)"
      ]
     },
     "execution_count": 7,
     "metadata": {},
     "output_type": "execute_result"
    }
   ],
   "source": [
    "X.shape"
   ]
  },
  {
   "cell_type": "code",
   "execution_count": 8,
   "id": "ebef788b",
   "metadata": {},
   "outputs": [
    {
     "data": {
      "text/plain": [
       "count       784\n",
       "unique        1\n",
       "top       False\n",
       "freq        784\n",
       "dtype: object"
      ]
     },
     "execution_count": 8,
     "metadata": {},
     "output_type": "execute_result"
    }
   ],
   "source": [
    "X.isnull().any().describe()"
   ]
  },
  {
   "cell_type": "code",
   "execution_count": 9,
   "id": "fe2c2a88",
   "metadata": {},
   "outputs": [
    {
     "data": {
      "text/plain": [
       "count       784\n",
       "unique        1\n",
       "top       False\n",
       "freq        784\n",
       "dtype: object"
      ]
     },
     "execution_count": 9,
     "metadata": {},
     "output_type": "execute_result"
    }
   ],
   "source": [
    "test.isnull().any().describe()"
   ]
  },
  {
   "cell_type": "code",
   "execution_count": 10,
   "id": "db8dfaa0",
   "metadata": {},
   "outputs": [
    {
     "data": {
      "text/plain": [
       "(42000, 784)"
      ]
     },
     "execution_count": 10,
     "metadata": {},
     "output_type": "execute_result"
    }
   ],
   "source": [
    "X.shape"
   ]
  },
  {
   "cell_type": "code",
   "execution_count": 11,
   "id": "2c795642",
   "metadata": {},
   "outputs": [
    {
     "name": "stdout",
     "output_type": "stream",
     "text": [
      "28.0\n"
     ]
    }
   ],
   "source": [
    "print(sqrt(784))"
   ]
  },
  {
   "cell_type": "code",
   "execution_count": 12,
   "id": "4699d203",
   "metadata": {},
   "outputs": [],
   "source": [
    "X = X.to_numpy()"
   ]
  },
  {
   "cell_type": "code",
   "execution_count": 13,
   "id": "b10ffdcb",
   "metadata": {},
   "outputs": [
    {
     "data": {
      "text/plain": [
       "array([[0, 0, 0, ..., 0, 0, 0],\n",
       "       [0, 0, 0, ..., 0, 0, 0],\n",
       "       [0, 0, 0, ..., 0, 0, 0],\n",
       "       ...,\n",
       "       [0, 0, 0, ..., 0, 0, 0],\n",
       "       [0, 0, 0, ..., 0, 0, 0],\n",
       "       [0, 0, 0, ..., 0, 0, 0]], dtype=int64)"
      ]
     },
     "execution_count": 13,
     "metadata": {},
     "output_type": "execute_result"
    }
   ],
   "source": [
    "X"
   ]
  },
  {
   "cell_type": "code",
   "execution_count": 14,
   "id": "d0b39c4e",
   "metadata": {},
   "outputs": [],
   "source": [
    "X = X / 255.0"
   ]
  },
  {
   "cell_type": "code",
   "execution_count": 15,
   "id": "2ac5ac8a",
   "metadata": {},
   "outputs": [
    {
     "name": "stdout",
     "output_type": "stream",
     "text": [
      "(array([0.        , 0.00392157, 0.00784314, 0.01176471, 0.01568627,\n",
      "       0.01960784, 0.02352941, 0.02745098, 0.03137255, 0.03529412,\n",
      "       0.03921569, 0.04313725, 0.04705882, 0.05098039, 0.05490196,\n",
      "       0.05882353, 0.0627451 , 0.06666667, 0.07058824, 0.0745098 ,\n",
      "       0.07843137, 0.08235294, 0.08627451, 0.09019608, 0.09411765,\n",
      "       0.09803922, 0.10196078, 0.10588235, 0.10980392, 0.11372549,\n",
      "       0.11764706, 0.12156863, 0.1254902 , 0.12941176, 0.13333333,\n",
      "       0.1372549 , 0.14117647, 0.14509804, 0.14901961, 0.15294118,\n",
      "       0.15686275, 0.16078431, 0.16470588, 0.16862745, 0.17254902,\n",
      "       0.17647059, 0.18039216, 0.18431373, 0.18823529, 0.19215686,\n",
      "       0.19607843, 0.2       , 0.20392157, 0.20784314, 0.21176471,\n",
      "       0.21568627, 0.21960784, 0.22352941, 0.22745098, 0.23137255,\n",
      "       0.23529412, 0.23921569, 0.24313725, 0.24705882, 0.25098039,\n",
      "       0.25490196, 0.25882353, 0.2627451 , 0.26666667, 0.27058824,\n",
      "       0.2745098 , 0.27843137, 0.28235294, 0.28627451, 0.29019608,\n",
      "       0.29411765, 0.29803922, 0.30196078, 0.30588235, 0.30980392,\n",
      "       0.31372549, 0.31764706, 0.32156863, 0.3254902 , 0.32941176,\n",
      "       0.33333333, 0.3372549 , 0.34117647, 0.34509804, 0.34901961,\n",
      "       0.35294118, 0.35686275, 0.36078431, 0.36470588, 0.36862745,\n",
      "       0.37254902, 0.37647059, 0.38039216, 0.38431373, 0.38823529,\n",
      "       0.39215686, 0.39607843, 0.4       , 0.40392157, 0.40784314,\n",
      "       0.41176471, 0.41568627, 0.41960784, 0.42352941, 0.42745098,\n",
      "       0.43137255, 0.43529412, 0.43921569, 0.44313725, 0.44705882,\n",
      "       0.45098039, 0.45490196, 0.45882353, 0.4627451 , 0.46666667,\n",
      "       0.47058824, 0.4745098 , 0.47843137, 0.48235294, 0.48627451,\n",
      "       0.49019608, 0.49411765, 0.49803922, 0.50196078, 0.50588235,\n",
      "       0.50980392, 0.51372549, 0.51764706, 0.52156863, 0.5254902 ,\n",
      "       0.52941176, 0.53333333, 0.5372549 , 0.54117647, 0.54509804,\n",
      "       0.54901961, 0.55294118, 0.55686275, 0.56078431, 0.56470588,\n",
      "       0.56862745, 0.57254902, 0.57647059, 0.58039216, 0.58431373,\n",
      "       0.58823529, 0.59215686, 0.59607843, 0.6       , 0.60392157,\n",
      "       0.60784314, 0.61176471, 0.61568627, 0.61960784, 0.62352941,\n",
      "       0.62745098, 0.63137255, 0.63529412, 0.63921569, 0.64313725,\n",
      "       0.64705882, 0.65098039, 0.65490196, 0.65882353, 0.6627451 ,\n",
      "       0.66666667, 0.67058824, 0.6745098 , 0.67843137, 0.68235294,\n",
      "       0.68627451, 0.69019608, 0.69411765, 0.69803922, 0.70196078,\n",
      "       0.70588235, 0.70980392, 0.71372549, 0.71764706, 0.72156863,\n",
      "       0.7254902 , 0.72941176, 0.73333333, 0.7372549 , 0.74117647,\n",
      "       0.74509804, 0.74901961, 0.75294118, 0.75686275, 0.76078431,\n",
      "       0.76470588, 0.76862745, 0.77254902, 0.77647059, 0.78039216,\n",
      "       0.78431373, 0.78823529, 0.79215686, 0.79607843, 0.8       ,\n",
      "       0.80392157, 0.80784314, 0.81176471, 0.81568627, 0.81960784,\n",
      "       0.82352941, 0.82745098, 0.83137255, 0.83529412, 0.83921569,\n",
      "       0.84313725, 0.84705882, 0.85098039, 0.85490196, 0.85882353,\n",
      "       0.8627451 , 0.86666667, 0.87058824, 0.8745098 , 0.87843137,\n",
      "       0.88235294, 0.88627451, 0.89019608, 0.89411765, 0.89803922,\n",
      "       0.90196078, 0.90588235, 0.90980392, 0.91372549, 0.91764706,\n",
      "       0.92156863, 0.9254902 , 0.92941176, 0.93333333, 0.9372549 ,\n",
      "       0.94117647, 0.94509804, 0.94901961, 0.95294118, 0.95686275,\n",
      "       0.96078431, 0.96470588, 0.96862745, 0.97254902, 0.97647059,\n",
      "       0.98039216, 0.98431373, 0.98823529, 0.99215686, 0.99607843,\n",
      "       1.        ]), array([26621312,    16170,    23601,    25196,    26733,    27358,\n",
      "          26188,    27363,    21668,    26703,    24799,    25025,\n",
      "          21308,    27957,    18903,    20090,    20193,    19216,\n",
      "          18992,    23983,    21095,    24903,    19141,    15953,\n",
      "          17927,    20918,    16860,    16742,    17844,    25924,\n",
      "          15890,    18291,    20182,    11018,    13932,    15182,\n",
      "          15479,    17357,    18369,    12632,    14442,    18851,\n",
      "          15600,    14909,    13305,    14729,    12111,    16861,\n",
      "          13812,    12477,    17009,    17509,    10245,    13448,\n",
      "          12670,    12624,    16196,    22260,    10089,    12587,\n",
      "          12557,    12652,    13840,    16794,    32934,    10993,\n",
      "          12350,    11186,    11483,    11762,    13542,    12961,\n",
      "          11996,    13471,     9671,    11122,    12388,     9404,\n",
      "          12303,    12589,    11019,    11679,    14921,    10708,\n",
      "          18847,    17659,    18136,     8999,    11184,    12340,\n",
      "           8944,    12623,    12969,    12121,    11550,    11483,\n",
      "          12338,     9924,    11512,    12535,    10644,     9913,\n",
      "          15408,    10358,    11398,    10476,    12798,    11549,\n",
      "          12576,    12888,    11147,    11168,    12787,    14086,\n",
      "          17074,    10598,    13659,    10294,    11606,    10877,\n",
      "          11514,    12229,    11528,    12620,     9525,    11461,\n",
      "          11663,    11513,    52883,    11558,    12374,    13350,\n",
      "          13116,    10510,    10822,    11595,    11285,    12218,\n",
      "          11965,    13639,    12180,    18989,    12715,    11289,\n",
      "          13311,    12797,    11235,    11684,    11980,    11400,\n",
      "          11993,    15197,    12664,    10809,    12528,    13040,\n",
      "          12939,    10257,    11727,    11210,    12529,    12071,\n",
      "          12534,    12908,    10779,    10811,    10387,    10142,\n",
      "          17539,    17907,    20749,    11771,    13031,    13687,\n",
      "          11836,    11573,    12127,    11797,    11973,    12638,\n",
      "          11937,    11954,    11129,    14269,    12608,    12288,\n",
      "          11888,    11603,    12181,    12915,    14201,    36594,\n",
      "          13914,    13171,    12986,    13850,    15741,    16182,\n",
      "          18210,    13177,    12704,    12435,    13828,    20303,\n",
      "          12813,    13590,    15219,    14767,    12602,    13734,\n",
      "          15150,    15733,    16102,    17897,    17796,    16908,\n",
      "          15266,    17542,    15370,    13669,    14434,    17348,\n",
      "          17986,    18366,    16802,    19169,    24895,    17656,\n",
      "          20462,    16449,    18962,    20756,    21176,    25850,\n",
      "          23345,    20362,    22030,    20928,    18761,    19350,\n",
      "          23538,    24787,    21878,    25809,    26017,    24897,\n",
      "          23672,    26386,    24661,    27763,    40161,    78319,\n",
      "         465950,  1066447,   560067,   223310], dtype=int64))\n"
     ]
    }
   ],
   "source": [
    "print(np.unique(X, return_counts=True))"
   ]
  },
  {
   "cell_type": "code",
   "execution_count": 16,
   "id": "8faa2592",
   "metadata": {},
   "outputs": [
    {
     "data": {
      "text/plain": [
       "(42000, 784)"
      ]
     },
     "execution_count": 16,
     "metadata": {},
     "output_type": "execute_result"
    }
   ],
   "source": [
    "X.shape"
   ]
  },
  {
   "cell_type": "code",
   "execution_count": 17,
   "id": "27e573de",
   "metadata": {},
   "outputs": [],
   "source": [
    "X = X.reshape(X.shape[0], 28, 28)"
   ]
  },
  {
   "cell_type": "code",
   "execution_count": 18,
   "id": "195d93a2",
   "metadata": {},
   "outputs": [
    {
     "data": {
      "text/plain": [
       "(42000, 28, 28)"
      ]
     },
     "execution_count": 18,
     "metadata": {},
     "output_type": "execute_result"
    }
   ],
   "source": [
    "X.shape"
   ]
  },
  {
   "cell_type": "code",
   "execution_count": 19,
   "id": "b7160d02",
   "metadata": {},
   "outputs": [
    {
     "data": {
      "image/png": "[encoded data removed]",
      "text/plain": [
       "<Figure size 432x288 with 3 Axes>"
      ]
     },
     "metadata": {
      "needs_background": "light"
     },
     "output_type": "display_data"
    }
   ],
   "source": [
    "for i in range(6,9):\n",
    "    plt.subplot(330 + (i+1))\n",
    "    plt.imshow(X_train[i])\n",
    "    plt.title(y_train[i]);"
   ]
  },
  {
   "cell_type": "code",
   "execution_count": 20,
   "id": "86f68979",
   "metadata": {},
   "outputs": [
    {
     "data": {
      "text/plain": [
       "0        1\n",
       "1        0\n",
       "2        1\n",
       "3        4\n",
       "4        0\n",
       "        ..\n",
       "41995    0\n",
       "41996    1\n",
       "41997    7\n",
       "41998    6\n",
       "41999    9\n",
       "Name: label, Length: 42000, dtype: int64"
      ]
     },
     "execution_count": 20,
     "metadata": {},
     "output_type": "execute_result"
    }
   ],
   "source": [
    "y"
   ]
  },
  {
   "cell_type": "code",
   "execution_count": 21,
   "id": "83e8cbb6",
   "metadata": {},
   "outputs": [],
   "source": [
    "y = y.to_numpy()"
   ]
  },
  {
   "cell_type": "code",
   "execution_count": 22,
   "id": "c57c0a1c",
   "metadata": {},
   "outputs": [
    {
     "name": "stdout",
     "output_type": "stream",
     "text": [
      "(array([0, 1, 2, 3, 4, 5, 6, 7, 8, 9], dtype=int64), array([4132, 4684, 4177, 4351, 4072, 3795, 4137, 4401, 4063, 4188],\n",
      "      dtype=int64))\n"
     ]
    }
   ],
   "source": [
    "print(np.unique(y, return_counts=True))"
   ]
  },
  {
   "cell_type": "code",
   "execution_count": 23,
   "id": "6d09ca62",
   "metadata": {},
   "outputs": [
    {
     "data": {
      "text/plain": [
       "array([1, 0, 1, ..., 7, 6, 9], dtype=int64)"
      ]
     },
     "execution_count": 23,
     "metadata": {},
     "output_type": "execute_result"
    }
   ],
   "source": [
    "y"
   ]
  }
 ],
 "metadata": {
  "kernelspec": {
   "display_name": "Python 3",
   "language": "python",
   "name": "python3"
  },
  "language_info": {
   "codemirror_mode": {
    "name": "ipython",
    "version": 3
   },
   "file_extension": ".py",
   "mimetype": "text/x-python",
   "name": "python",
   "nbconvert_exporter": "python",
   "pygments_lexer": "ipython3",
   "version": "3.8.8"
  },
  "toc": {
   "base_numbering": 1,
   "nav_menu": {},
   "number_sections": true,
   "sideBar": true,
   "skip_h1_title": false,
   "title_cell": "Table of Contents",
   "title_sidebar": "Contents",
   "toc_cell": false,
   "toc_position": {},
   "toc_section_display": true,
   "toc_window_display": false
  },
  "varInspector": {
   "cols": {
    "lenName": 16,
    "lenType": 16,
    "lenVar": 40
   },
   "kernels_config": {
    "python": {
     "delete_cmd_postfix": "",
     "delete_cmd_prefix": "del ",
     "library": "var_list.py",
     "varRefreshCmd": "print(var_dic_list())"
    },
    "r": {
     "delete_cmd_postfix": ") ",
     "delete_cmd_prefix": "rm(",
     "library": "var_list.r",
     "varRefreshCmd": "cat(var_dic_list()) "
    }
   },
   "types_to_exclude": [
    "module",
    "function",
    "builtin_function_or_method",
    "instance",
    "_Feature"
   ],
   "window_display": false
  }
 },
 "nbformat": 4,
 "nbformat_minor": 5
}
