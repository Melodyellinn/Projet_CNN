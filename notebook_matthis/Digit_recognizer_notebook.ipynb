{
 "cells": [
  {
   "cell_type": "markdown",
   "id": "4d6552a4",
   "metadata": {},
   "source": [
    "# Notebook Model Digit recognizer"
   ]
  },
  {
   "cell_type": "markdown",
   "id": "5d4aff00",
   "metadata": {},
   "source": [
    "Ce notebook a pour but d'utiliser un model de CNN pour reconnaitre un chiffre (de 0 à 9)   \n",
    "Ce projet a été réalisé par Melody et Matthis pour l'école de Simplon."
   ]
  },
  {
   "cell_type": "markdown",
   "id": "aa47563f",
   "metadata": {},
   "source": [
    "Sommaire:   \n",
    "* [Import des librairies](#Import-des-librairies)\n",
    "* [EDA](#EDA)\n",
    "* [Deep Librairie](#Import-Deep-learning-librairie)\n",
    "* [Preprocessing](#Preprocessing)\n",
    "    * [Training Test](#Training-Test)\n",
    "* [CNN Model](#CNN-Model)\n",
    "    * [CNN Model without data augmentation](#CNN-Model-without-data-augmentation)\n",
    "    * [CNN Model with data augmentation](#Model-with-Data-Augmentation)\n",
    "* [Model Evaluation](#Model-Evaluation)\n",
    "    * [Classification Report](#Classification-Report)\n",
    "        * [model without data augmentation](#model-without-data-augmentation)\n",
    "        * [model with data augmentation](#model-with-data-augmentation)\n",
    "    * [Matrice de confusion](#Confusion-Matrix)\n",
    "        * [without data augmentation](#without-data-augmentation)\n",
    "        * [with data augmentation](#with-data-augmentation)\n",
    "    * [Learning Curve](#Learning-Curve)\n",
    "* [Examen des erreurs](#Examen-des-erreurs)\n",
    "* [Save Model](#Save-model)"
   ]
  },
  {
   "cell_type": "markdown",
   "id": "1dabee7b",
   "metadata": {},
   "source": [
    "# Import des librairies et dataset"
   ]
  },
  {
   "cell_type": "code",
   "execution_count": 1,
   "id": "579ab637",
   "metadata": {},
   "outputs": [],
   "source": [
    "import numpy as np\n",
    "import pandas as pd\n",
    "import seaborn as sns\n",
    "import matplotlib.pyplot as plt\n",
    "from math import *"
   ]
  },
  {
   "cell_type": "code",
   "execution_count": 2,
   "id": "eea8fe1b",
   "metadata": {},
   "outputs": [],
   "source": [
    "df = pd.read_csv(\"train.csv\")"
   ]
  },
  {
   "cell_type": "code",
   "execution_count": 3,
   "id": "094a5825",
   "metadata": {},
   "outputs": [],
   "source": [
    "y = df[\"label\"]\n",
    "X = df.drop(labels = [\"label\"],axis = 1)"
   ]
  },
  {
   "cell_type": "code",
   "execution_count": 4,
   "id": "fce4b950",
   "metadata": {},
   "outputs": [
    {
     "data": {
      "text/html": [
       "<div><div id=15711b7e-e3c4-431f-b4f0-572a89b2d1c2 style=\"display:none; background-color:#9D6CFF; color:white; width:200px; height:30px; padding-left:5px; border-radius:4px; flex-direction:row; justify-content:space-around; align-items:center;\" onmouseover=\"this.style.backgroundColor='#BA9BF8'\" onmouseout=\"this.style.backgroundColor='#9D6CFF'\" onclick=\"window.commands?.execute('create-mitosheet-from-dataframe-output');\">See Full Dataframe in Mito</div> <script> if (window.commands.hasCommand('create-mitosheet-from-dataframe-output')) document.getElementById('15711b7e-e3c4-431f-b4f0-572a89b2d1c2').style.display = 'flex' </script> <table border=\"1\" class=\"dataframe\">\n",
       "  <thead>\n",
       "    <tr style=\"text-align: right;\">\n",
       "      <th></th>\n",
       "      <th>label</th>\n",
       "      <th>pixel0</th>\n",
       "      <th>pixel1</th>\n",
       "      <th>pixel2</th>\n",
       "      <th>pixel3</th>\n",
       "      <th>pixel4</th>\n",
       "      <th>pixel5</th>\n",
       "      <th>pixel6</th>\n",
       "      <th>pixel7</th>\n",
       "      <th>pixel8</th>\n",
       "      <th>...</th>\n",
       "      <th>pixel774</th>\n",
       "      <th>pixel775</th>\n",
       "      <th>pixel776</th>\n",
       "      <th>pixel777</th>\n",
       "      <th>pixel778</th>\n",
       "      <th>pixel779</th>\n",
       "      <th>pixel780</th>\n",
       "      <th>pixel781</th>\n",
       "      <th>pixel782</th>\n",
       "      <th>pixel783</th>\n",
       "    </tr>\n",
       "  </thead>\n",
       "  <tbody>\n",
       "    <tr>\n",
       "      <th>0</th>\n",
       "      <td>1</td>\n",
       "      <td>0</td>\n",
       "      <td>0</td>\n",
       "      <td>0</td>\n",
       "      <td>0</td>\n",
       "      <td>0</td>\n",
       "      <td>0</td>\n",
       "      <td>0</td>\n",
       "      <td>0</td>\n",
       "      <td>0</td>\n",
       "      <td>...</td>\n",
       "      <td>0</td>\n",
       "      <td>0</td>\n",
       "      <td>0</td>\n",
       "      <td>0</td>\n",
       "      <td>0</td>\n",
       "      <td>0</td>\n",
       "      <td>0</td>\n",
       "      <td>0</td>\n",
       "      <td>0</td>\n",
       "      <td>0</td>\n",
       "    </tr>\n",
       "    <tr>\n",
       "      <th>1</th>\n",
       "      <td>0</td>\n",
       "      <td>0</td>\n",
       "      <td>0</td>\n",
       "      <td>0</td>\n",
       "      <td>0</td>\n",
       "      <td>0</td>\n",
       "      <td>0</td>\n",
       "      <td>0</td>\n",
       "      <td>0</td>\n",
       "      <td>0</td>\n",
       "      <td>...</td>\n",
       "      <td>0</td>\n",
       "      <td>0</td>\n",
       "      <td>0</td>\n",
       "      <td>0</td>\n",
       "      <td>0</td>\n",
       "      <td>0</td>\n",
       "      <td>0</td>\n",
       "      <td>0</td>\n",
       "      <td>0</td>\n",
       "      <td>0</td>\n",
       "    </tr>\n",
       "    <tr>\n",
       "      <th>2</th>\n",
       "      <td>1</td>\n",
       "      <td>0</td>\n",
       "      <td>0</td>\n",
       "      <td>0</td>\n",
       "      <td>0</td>\n",
       "      <td>0</td>\n",
       "      <td>0</td>\n",
       "      <td>0</td>\n",
       "      <td>0</td>\n",
       "      <td>0</td>\n",
       "      <td>...</td>\n",
       "      <td>0</td>\n",
       "      <td>0</td>\n",
       "      <td>0</td>\n",
       "      <td>0</td>\n",
       "      <td>0</td>\n",
       "      <td>0</td>\n",
       "      <td>0</td>\n",
       "      <td>0</td>\n",
       "      <td>0</td>\n",
       "      <td>0</td>\n",
       "    </tr>\n",
       "    <tr>\n",
       "      <th>3</th>\n",
       "      <td>4</td>\n",
       "      <td>0</td>\n",
       "      <td>0</td>\n",
       "      <td>0</td>\n",
       "      <td>0</td>\n",
       "      <td>0</td>\n",
       "      <td>0</td>\n",
       "      <td>0</td>\n",
       "      <td>0</td>\n",
       "      <td>0</td>\n",
       "      <td>...</td>\n",
       "      <td>0</td>\n",
       "      <td>0</td>\n",
       "      <td>0</td>\n",
       "      <td>0</td>\n",
       "      <td>0</td>\n",
       "      <td>0</td>\n",
       "      <td>0</td>\n",
       "      <td>0</td>\n",
       "      <td>0</td>\n",
       "      <td>0</td>\n",
       "    </tr>\n",
       "    <tr>\n",
       "      <th>4</th>\n",
       "      <td>0</td>\n",
       "      <td>0</td>\n",
       "      <td>0</td>\n",
       "      <td>0</td>\n",
       "      <td>0</td>\n",
       "      <td>0</td>\n",
       "      <td>0</td>\n",
       "      <td>0</td>\n",
       "      <td>0</td>\n",
       "      <td>0</td>\n",
       "      <td>...</td>\n",
       "      <td>0</td>\n",
       "      <td>0</td>\n",
       "      <td>0</td>\n",
       "      <td>0</td>\n",
       "      <td>0</td>\n",
       "      <td>0</td>\n",
       "      <td>0</td>\n",
       "      <td>0</td>\n",
       "      <td>0</td>\n",
       "      <td>0</td>\n",
       "    </tr>\n",
       "  </tbody>\n",
       "</table></div>"
      ],
      "text/plain": [
       "   label  pixel0  pixel1  pixel2  pixel3  pixel4  pixel5  pixel6  pixel7  \\\n",
       "0      1       0       0       0       0       0       0       0       0   \n",
       "1      0       0       0       0       0       0       0       0       0   \n",
       "2      1       0       0       0       0       0       0       0       0   \n",
       "3      4       0       0       0       0       0       0       0       0   \n",
       "4      0       0       0       0       0       0       0       0       0   \n",
       "\n",
       "   pixel8  ...  pixel774  pixel775  pixel776  pixel777  pixel778  pixel779  \\\n",
       "0       0  ...         0         0         0         0         0         0   \n",
       "1       0  ...         0         0         0         0         0         0   \n",
       "2       0  ...         0         0         0         0         0         0   \n",
       "3       0  ...         0         0         0         0         0         0   \n",
       "4       0  ...         0         0         0         0         0         0   \n",
       "\n",
       "   pixel780  pixel781  pixel782  pixel783  \n",
       "0         0         0         0         0  \n",
       "1         0         0         0         0  \n",
       "2         0         0         0         0  \n",
       "3         0         0         0         0  \n",
       "4         0         0         0         0  \n",
       "\n",
       "[5 rows x 785 columns]"
      ]
     },
     "execution_count": 4,
     "metadata": {},
     "output_type": "execute_result"
    }
   ],
   "source": [
    "df.head()"
   ]
  },
  {
   "cell_type": "markdown",
   "id": "08ef8ba7",
   "metadata": {},
   "source": [
    "# EDA"
   ]
  },
  {
   "cell_type": "code",
   "execution_count": 5,
   "id": "b2f01831",
   "metadata": {},
   "outputs": [
    {
     "data": {
      "text/plain": [
       "1    4684\n",
       "7    4401\n",
       "3    4351\n",
       "9    4188\n",
       "2    4177\n",
       "6    4137\n",
       "0    4132\n",
       "4    4072\n",
       "8    4063\n",
       "5    3795\n",
       "Name: label, dtype: int64"
      ]
     },
     "execution_count": 5,
     "metadata": {},
     "output_type": "execute_result"
    }
   ],
   "source": [
    "y.value_counts()"
   ]
  },
  {
   "cell_type": "code",
   "execution_count": 6,
   "id": "5272d3a8",
   "metadata": {},
   "outputs": [
    {
     "data": {
      "text/plain": [
       "<AxesSubplot:xlabel='label', ylabel='count'>"
      ]
     },
     "execution_count": 6,
     "metadata": {},
     "output_type": "execute_result"
    },
    {
     "data": {
      "image/png": "[encoded data removed]",
      "text/plain": [
       "<Figure size 432x288 with 1 Axes>"
      ]
     },
     "metadata": {
      "needs_background": "light"
     },
     "output_type": "display_data"
    }
   ],
   "source": [
    "sns.countplot(x= y)"
   ]
  },
  {
   "cell_type": "code",
   "execution_count": 7,
   "id": "cf1831b1",
   "metadata": {},
   "outputs": [
    {
     "data": {
      "text/plain": [
       "count       784\n",
       "unique        1\n",
       "top       False\n",
       "freq        784\n",
       "dtype: object"
      ]
     },
     "execution_count": 7,
     "metadata": {},
     "output_type": "execute_result"
    }
   ],
   "source": [
    "X.isnull().any().describe()"
   ]
  },
  {
   "cell_type": "code",
   "execution_count": 8,
   "id": "e1f58a0c",
   "metadata": {},
   "outputs": [
    {
     "data": {
      "text/plain": [
       "(42000, 784)"
      ]
     },
     "execution_count": 8,
     "metadata": {},
     "output_type": "execute_result"
    }
   ],
   "source": [
    "X.shape"
   ]
  },
  {
   "cell_type": "code",
   "execution_count": 9,
   "id": "277a470c",
   "metadata": {},
   "outputs": [
    {
     "name": "stdout",
     "output_type": "stream",
     "text": [
      "28.0\n"
     ]
    }
   ],
   "source": [
    "print(sqrt(784))"
   ]
  },
  {
   "cell_type": "code",
   "execution_count": 10,
   "id": "f72084d3",
   "metadata": {},
   "outputs": [
    {
     "name": "stdout",
     "output_type": "stream",
     "text": [
      "(array([0, 1, 2, 3, 4, 5, 6, 7, 8, 9], dtype=int64), array([4132, 4684, 4177, 4351, 4072, 3795, 4137, 4401, 4063, 4188],\n",
      "      dtype=int64))\n"
     ]
    }
   ],
   "source": [
    "print(np.unique(y, return_counts=True))"
   ]
  },
  {
   "cell_type": "markdown",
   "id": "090ed1e1",
   "metadata": {},
   "source": [
    "# Import Deep learning librairie"
   ]
  },
  {
   "cell_type": "code",
   "execution_count": 11,
   "id": "852aa23e",
   "metadata": {},
   "outputs": [],
   "source": [
    "import tensorflow as tf\n",
    "from tensorflow.keras.preprocessing.image import ImageDataGenerator\n",
    "from tensorflow.keras.models import Sequential\n",
    "from tensorflow.keras.optimizers import RMSprop\n",
    "from tensorflow.keras.layers import Dense, Dropout,Flatten,Conv2D,MaxPool2D,LeakyReLU\n",
    "from tensorflow.keras import backend,callbacks,initializers\n",
    "from tensorflow.keras.callbacks import ReduceLROnPlateau"
   ]
  },
  {
   "cell_type": "code",
   "execution_count": 12,
   "id": "792ca726",
   "metadata": {},
   "outputs": [],
   "source": [
    "from sklearn.model_selection import train_test_split\n",
    "from sklearn.metrics import (classification_report, confusion_matrix, \n",
    "                            f1_score,accuracy_score, precision_score, \n",
    "                             recall_score, roc_auc_score) "
   ]
  },
  {
   "cell_type": "markdown",
   "id": "b88fadba",
   "metadata": {},
   "source": [
    "# Preprocessing"
   ]
  },
  {
   "cell_type": "code",
   "execution_count": 13,
   "id": "eefa0f41",
   "metadata": {},
   "outputs": [],
   "source": [
    "def preprocessing(X,y,test_size,random_seed):\n",
    "    # Normalisation\n",
    "    X = X / 255.0\n",
    "    # redimension des images\n",
    "    X = X.values.reshape(X.shape[0], 28, 28,1)\n",
    "    # One hot encoder\n",
    "    Y = tf.keras.utils.to_categorical(y, num_classes = 10)\n",
    "    # données test,train\n",
    "    X_train, X_test, y_train, y_test = train_test_split(X,Y, test_size = test_size, random_state = random_seed)\n",
    "    return X_train, X_test, y_train, y_test"
   ]
  },
  {
   "cell_type": "markdown",
   "id": "54c26229",
   "metadata": {},
   "source": [
    "# Training Test"
   ]
  },
  {
   "cell_type": "code",
   "execution_count": 14,
   "id": "4fb92454",
   "metadata": {},
   "outputs": [
    {
     "name": "stderr",
     "output_type": "stream",
     "text": [
      "NumExpr defaulting to 8 threads.\n"
     ]
    }
   ],
   "source": [
    "X_train, X_test, y_train, y_test= preprocessing(X,y,0.1,2)"
   ]
  },
  {
   "cell_type": "code",
   "execution_count": 15,
   "id": "605da10e",
   "metadata": {},
   "outputs": [
    {
     "data": {
      "text/plain": [
       "<matplotlib.image.AxesImage at 0x28c697332b0>"
      ]
     },
     "execution_count": 15,
     "metadata": {},
     "output_type": "execute_result"
    },
    {
     "data": {
      "image/png": "[encoded data removed]",
      "text/plain": [
       "<Figure size 432x288 with 1 Axes>"
      ]
     },
     "metadata": {
      "needs_background": "light"
     },
     "output_type": "display_data"
    }
   ],
   "source": [
    "plt.imshow(X_train[4][:,:,0])"
   ]
  },
  {
   "cell_type": "markdown",
   "id": "f71e5e38",
   "metadata": {},
   "source": [
    "# CNN Model "
   ]
  },
  {
   "cell_type": "markdown",
   "id": "e6277abc",
   "metadata": {},
   "source": [
    "## CNN Model without data augmentation"
   ]
  },
  {
   "cell_type": "code",
   "execution_count": 16,
   "id": "d686bbc8",
   "metadata": {},
   "outputs": [
    {
     "name": "stdout",
     "output_type": "stream",
     "text": [
      "Input shape: (28, 28, 1)\n"
     ]
    }
   ],
   "source": [
    "input_shape = X_train.shape[1:]\n",
    "print(\"Input shape: {}\".format(input_shape))"
   ]
  },
  {
   "cell_type": "code",
   "execution_count": 17,
   "id": "63262870",
   "metadata": {},
   "outputs": [],
   "source": [
    "def CNN_architecture(input_shape):\n",
    "    model=Sequential()\n",
    "\n",
    "    model.add(Conv2D(filters=32, kernel_size=(5,5), padding='Same', activation='relu', input_shape = input_shape))\n",
    "    model.add(LeakyReLU())\n",
    "    model.add(Conv2D(filters=32, kernel_size=(5,5), padding='Same', activation='relu'))\n",
    "    model.add(LeakyReLU())\n",
    "    model.add(MaxPool2D(pool_size=(2,2)))\n",
    "    model.add(Dropout(0.25))\n",
    "\n",
    "\n",
    "    model.add(Conv2D(filters=64, kernel_size=(3,3), padding='Same', activation='relu'))\n",
    "    model.add(LeakyReLU())\n",
    "    model.add(Conv2D(filters=64, kernel_size=(3,3), padding='Same', activation='relu'))\n",
    "    model.add(LeakyReLU())\n",
    "    model.add(MaxPool2D(pool_size=(2,2),strides=(2,2)))\n",
    "    model.add(Dropout(0.25))\n",
    "\n",
    "    model.add(Flatten())\n",
    "\n",
    "    model.add(Dense(256,activation='relu'))\n",
    "    model.add(Dense(32,activation='relu'))\n",
    "    model.add(Dense(10,activation='softmax'))\n",
    "    return model"
   ]
  },
  {
   "cell_type": "code",
   "execution_count": 18,
   "id": "90afee08",
   "metadata": {},
   "outputs": [],
   "source": [
    "model = CNN_architecture(X_train.shape[1:])"
   ]
  },
  {
   "cell_type": "code",
   "execution_count": 19,
   "id": "a3e226f9",
   "metadata": {},
   "outputs": [],
   "source": [
    "# print(model.summary())"
   ]
  },
  {
   "cell_type": "code",
   "execution_count": 20,
   "id": "590a6951",
   "metadata": {},
   "outputs": [
    {
     "name": "stderr",
     "output_type": "stream",
     "text": [
      "C:\\Users\\mattb\\anaconda3\\lib\\site-packages\\keras\\optimizer_v2\\adam.py:105: UserWarning: The `lr` argument is deprecated, use `learning_rate` instead.\n",
      "  super(Adam, self).__init__(name, **kwargs)\n"
     ]
    }
   ],
   "source": [
    "opt =tf.keras.optimizers.Adam(learning_rate=0.001)"
   ]
  },
  {
   "cell_type": "code",
   "execution_count": 21,
   "id": "c9d0e2f6",
   "metadata": {},
   "outputs": [],
   "source": [
    "def compiler(model,optimizer):\n",
    "    return model.compile(optimizer = optimizer , loss = \"categorical_crossentropy\", metrics=[\"accuracy\"])  "
   ]
  },
  {
   "cell_type": "code",
   "execution_count": 22,
   "id": "7d0bd844",
   "metadata": {},
   "outputs": [],
   "source": [
    "compiler(model,opt)"
   ]
  },
  {
   "cell_type": "code",
   "execution_count": 23,
   "id": "d43ff364",
   "metadata": {},
   "outputs": [],
   "source": [
    "early_stopping =  callbacks.EarlyStopping(\n",
    "    min_delta=0.01, # minimium amount of change to count as an improvement\n",
    "    patience=3, # how many epochs to wait before stopping\n",
    "    restore_best_weights=True,)"
   ]
  },
  {
   "cell_type": "code",
   "execution_count": 24,
   "id": "f13fabf6",
   "metadata": {},
   "outputs": [
    {
     "name": "stdout",
     "output_type": "stream",
     "text": [
      "Epoch 1/30\n",
      "237/237 [==============================] - 69s 287ms/step - loss: 0.2915 - accuracy: 0.9076 - val_loss: 0.0641 - val_accuracy: 0.9817\n",
      "Epoch 2/30\n",
      "237/237 [==============================] - 68s 285ms/step - loss: 0.0725 - accuracy: 0.9775 - val_loss: 0.0490 - val_accuracy: 0.9858\n",
      "Epoch 3/30\n",
      "237/237 [==============================] - 69s 292ms/step - loss: 0.0493 - accuracy: 0.9841 - val_loss: 0.0413 - val_accuracy: 0.9876\n",
      "Epoch 4/30\n",
      "237/237 [==============================] - 71s 302ms/step - loss: 0.0422 - accuracy: 0.9861 - val_loss: 0.0443 - val_accuracy: 0.9868\n",
      "Epoch 5/30\n",
      "237/237 [==============================] - 68s 288ms/step - loss: 0.0317 - accuracy: 0.9899 - val_loss: 0.0413 - val_accuracy: 0.9886\n"
     ]
    }
   ],
   "source": [
    "history = model.fit(X_train,y_train, validation_split=0.2,callbacks=early_stopping,batch_size=128, epochs=30)"
   ]
  },
  {
   "cell_type": "markdown",
   "id": "5cce83e3",
   "metadata": {},
   "source": [
    "## Model with Data Augmentation"
   ]
  },
  {
   "cell_type": "code",
   "execution_count": 25,
   "id": "cd1a1e27",
   "metadata": {},
   "outputs": [],
   "source": [
    "model2 = CNN_architecture(X_train.shape[1:])"
   ]
  },
  {
   "cell_type": "code",
   "execution_count": 26,
   "id": "751975df",
   "metadata": {},
   "outputs": [],
   "source": [
    "def DataGen():\n",
    "    # With data augmentation to prevent overfitting (accuracy 0.99286)\n",
    "    datagen = ImageDataGenerator(\n",
    "        featurewise_center=False,  # set input mean to 0 over the dataset\n",
    "        samplewise_center=False,  # set each sample mean to 0\n",
    "        featurewise_std_normalization=False,  # divide inputs by std of the dataset\n",
    "        samplewise_std_normalization=False,  # divide each input by its std\n",
    "        zca_whitening=False,  # apply ZCA whitening\n",
    "        rotation_range=10,  # randomly rotate images in the range (degrees, 0 to 180)\n",
    "        zoom_range = 0.1, # Randomly zoom image \n",
    "        width_shift_range=0.1,  # randomly shift images horizontally (fraction of total width)\n",
    "        height_shift_range=0.1,  # randomly shift images vertically (fraction of total height)\n",
    "        horizontal_flip=False,  # randomly flip images\n",
    "        vertical_flip=False)  # randomly flip images \n",
    "    return datagen"
   ]
  },
  {
   "cell_type": "code",
   "execution_count": 27,
   "id": "4d73fd0c",
   "metadata": {},
   "outputs": [],
   "source": [
    "data_aug = DataGen().flow(X_train,y_train)"
   ]
  },
  {
   "cell_type": "code",
   "execution_count": 28,
   "id": "b52804cd",
   "metadata": {},
   "outputs": [
    {
     "name": "stderr",
     "output_type": "stream",
     "text": [
      "C:\\Users\\mattb\\anaconda3\\lib\\site-packages\\keras\\optimizer_v2\\rmsprop.py:130: UserWarning: The `lr` argument is deprecated, use `learning_rate` instead.\n",
      "  super(RMSprop, self).__init__(name, **kwargs)\n"
     ]
    }
   ],
   "source": [
    "opt = tf.keras.optimizers.RMSprop(learning_rate=0.001, rho=0.9, epsilon=1e-08, decay=0.0)"
   ]
  },
  {
   "cell_type": "code",
   "execution_count": 29,
   "id": "c90618d5",
   "metadata": {},
   "outputs": [],
   "source": [
    "def compiler(model,optimizer):\n",
    "    return model.compile(optimizer = optimizer , loss = \"categorical_crossentropy\", metrics=[\"accuracy\"])    "
   ]
  },
  {
   "cell_type": "code",
   "execution_count": 30,
   "id": "1dc327a9",
   "metadata": {},
   "outputs": [],
   "source": [
    "compiler(model2,opt)"
   ]
  },
  {
   "cell_type": "code",
   "execution_count": 31,
   "id": "b5b4d85b",
   "metadata": {},
   "outputs": [],
   "source": [
    "learning_rate_reduction = ReduceLROnPlateau(monitor='val_accuracy', \n",
    "                                            patience=3, \n",
    "                                            verbose=1, \n",
    "                                            factor=0.5, \n",
    "                                            min_lr=0.00001)"
   ]
  },
  {
   "cell_type": "code",
   "execution_count": 32,
   "id": "ec08a568",
   "metadata": {},
   "outputs": [
    {
     "name": "stdout",
     "output_type": "stream",
     "text": [
      "Epoch 1/30\n",
      "295/295 [==============================] - 28s 91ms/step - loss: 0.6984 - accuracy: 0.7785 - val_loss: 0.1619 - val_accuracy: 0.9500 - lr: 0.0010\n",
      "Epoch 2/30\n",
      "295/295 [==============================] - 27s 91ms/step - loss: 0.2098 - accuracy: 0.9387 - val_loss: 0.1506 - val_accuracy: 0.9583 - lr: 0.0010\n",
      "Epoch 3/30\n",
      "295/295 [==============================] - 27s 92ms/step - loss: 0.1674 - accuracy: 0.9524 - val_loss: 0.1627 - val_accuracy: 0.9510 - lr: 0.0010\n",
      "Epoch 4/30\n",
      "295/295 [==============================] - 27s 91ms/step - loss: 0.1277 - accuracy: 0.9604 - val_loss: 0.0526 - val_accuracy: 0.9852 - lr: 0.0010\n",
      "Epoch 5/30\n",
      "295/295 [==============================] - 27s 91ms/step - loss: 0.1076 - accuracy: 0.9676 - val_loss: 0.0538 - val_accuracy: 0.9826 - lr: 0.0010\n",
      "Epoch 6/30\n",
      "295/295 [==============================] - 26s 87ms/step - loss: 0.1010 - accuracy: 0.9718 - val_loss: 0.0433 - val_accuracy: 0.9874 - lr: 0.0010\n",
      "Epoch 7/30\n",
      "295/295 [==============================] - 27s 91ms/step - loss: 0.0874 - accuracy: 0.9744 - val_loss: 0.0546 - val_accuracy: 0.9826 - lr: 0.0010\n",
      "Epoch 8/30\n",
      "295/295 [==============================] - 29s 98ms/step - loss: 0.0914 - accuracy: 0.9738 - val_loss: 0.0420 - val_accuracy: 0.9883 - lr: 0.0010\n",
      "Epoch 9/30\n",
      "295/295 [==============================] - 29s 98ms/step - loss: 0.0796 - accuracy: 0.9754 - val_loss: 0.0471 - val_accuracy: 0.9857 - lr: 0.0010\n",
      "Epoch 10/30\n",
      "295/295 [==============================] - 27s 91ms/step - loss: 0.0801 - accuracy: 0.9764 - val_loss: 0.0356 - val_accuracy: 0.9895 - lr: 0.0010\n",
      "Epoch 11/30\n",
      "295/295 [==============================] - 27s 90ms/step - loss: 0.0741 - accuracy: 0.9783 - val_loss: 0.0445 - val_accuracy: 0.9898 - lr: 0.0010\n",
      "Epoch 12/30\n",
      "295/295 [==============================] - 26s 89ms/step - loss: 0.0720 - accuracy: 0.9797 - val_loss: 0.0454 - val_accuracy: 0.9879 - lr: 0.0010\n",
      "Epoch 13/30\n",
      "295/295 [==============================] - 26s 88ms/step - loss: 0.0723 - accuracy: 0.9791 - val_loss: 0.0502 - val_accuracy: 0.9867 - lr: 0.0010\n",
      "Epoch 14/30\n",
      "295/295 [==============================] - ETA: 0s - loss: 0.0694 - accuracy: 0.9798\n",
      "Epoch 00014: ReduceLROnPlateau reducing learning rate to 0.0005000000237487257.\n",
      "295/295 [==============================] - 26s 90ms/step - loss: 0.0694 - accuracy: 0.9798 - val_loss: 0.0481 - val_accuracy: 0.9876 - lr: 0.0010\n",
      "Epoch 15/30\n",
      "295/295 [==============================] - 27s 90ms/step - loss: 0.0538 - accuracy: 0.9858 - val_loss: 0.0341 - val_accuracy: 0.9914 - lr: 5.0000e-04\n",
      "Epoch 16/30\n",
      "295/295 [==============================] - 27s 90ms/step - loss: 0.0435 - accuracy: 0.9873 - val_loss: 0.0312 - val_accuracy: 0.9917 - lr: 5.0000e-04\n",
      "Epoch 17/30\n",
      "295/295 [==============================] - 26s 89ms/step - loss: 0.0534 - accuracy: 0.9864 - val_loss: 0.0262 - val_accuracy: 0.9924 - lr: 5.0000e-04\n",
      "Epoch 18/30\n",
      "295/295 [==============================] - 26s 87ms/step - loss: 0.0438 - accuracy: 0.9867 - val_loss: 0.0342 - val_accuracy: 0.9914 - lr: 5.0000e-04\n",
      "Epoch 19/30\n",
      "295/295 [==============================] - 26s 89ms/step - loss: 0.0511 - accuracy: 0.9857 - val_loss: 0.0302 - val_accuracy: 0.9912 - lr: 5.0000e-04\n",
      "Epoch 20/30\n",
      "295/295 [==============================] - ETA: 0s - loss: 0.0482 - accuracy: 0.9851\n",
      "Epoch 00020: ReduceLROnPlateau reducing learning rate to 0.0002500000118743628.\n",
      "295/295 [==============================] - 27s 92ms/step - loss: 0.0482 - accuracy: 0.9851 - val_loss: 0.0305 - val_accuracy: 0.9914 - lr: 5.0000e-04\n",
      "Epoch 21/30\n",
      "295/295 [==============================] - 28s 94ms/step - loss: 0.0363 - accuracy: 0.9896 - val_loss: 0.0250 - val_accuracy: 0.9921 - lr: 2.5000e-04\n",
      "Epoch 22/30\n",
      "295/295 [==============================] - 27s 92ms/step - loss: 0.0394 - accuracy: 0.9893 - val_loss: 0.0228 - val_accuracy: 0.9933 - lr: 2.5000e-04\n",
      "Epoch 23/30\n",
      "295/295 [==============================] - 27s 91ms/step - loss: 0.0379 - accuracy: 0.9895 - val_loss: 0.0256 - val_accuracy: 0.9921 - lr: 2.5000e-04\n",
      "Epoch 24/30\n",
      "295/295 [==============================] - 28s 93ms/step - loss: 0.0340 - accuracy: 0.9890 - val_loss: 0.0247 - val_accuracy: 0.9931 - lr: 2.5000e-04\n",
      "Epoch 25/30\n",
      "295/295 [==============================] - 28s 94ms/step - loss: 0.0439 - accuracy: 0.9873 - val_loss: 0.0211 - val_accuracy: 0.9938 - lr: 2.5000e-04\n",
      "Epoch 26/30\n",
      "295/295 [==============================] - 27s 91ms/step - loss: 0.0338 - accuracy: 0.9889 - val_loss: 0.0239 - val_accuracy: 0.9933 - lr: 2.5000e-04\n",
      "Epoch 27/30\n",
      "295/295 [==============================] - 28s 95ms/step - loss: 0.0396 - accuracy: 0.9893 - val_loss: 0.0227 - val_accuracy: 0.9938 - lr: 2.5000e-04\n",
      "Epoch 28/30\n",
      "295/295 [==============================] - 26s 90ms/step - loss: 0.0310 - accuracy: 0.9904 - val_loss: 0.0226 - val_accuracy: 0.9957 - lr: 2.5000e-04\n",
      "Epoch 29/30\n",
      "295/295 [==============================] - 21s 72ms/step - loss: 0.0288 - accuracy: 0.9921 - val_loss: 0.0237 - val_accuracy: 0.9931 - lr: 2.5000e-04\n",
      "Epoch 30/30\n",
      "295/295 [==============================] - 22s 74ms/step - loss: 0.0405 - accuracy: 0.9886 - val_loss: 0.0181 - val_accuracy: 0.9952 - lr: 2.5000e-04\n"
     ]
    }
   ],
   "source": [
    "history = model2.fit(data_aug, epochs = 30, validation_data = (X_test,y_test)\n",
    "                              , steps_per_epoch=X_train.shape[0] // 128\n",
    "                              , callbacks=[learning_rate_reduction])"
   ]
  },
  {
   "cell_type": "markdown",
   "id": "e2f12fb8",
   "metadata": {},
   "source": [
    "# Model Evaluation"
   ]
  },
  {
   "cell_type": "code",
   "execution_count": 33,
   "id": "5fc2d020",
   "metadata": {},
   "outputs": [],
   "source": [
    "def predict(model):\n",
    "    y_predict = model.predict(X_test)\n",
    "    Y_pred = np.argmax(y_predict,axis = 1)\n",
    "    Y_true = np.argmax(y_test,axis = 1)\n",
    "    return Y_pred,Y_true,y_predict    "
   ]
  },
  {
   "cell_type": "code",
   "execution_count": 34,
   "id": "5975dea6",
   "metadata": {},
   "outputs": [],
   "source": [
    "Y_pred,Y_true,y_predict = predict(model)"
   ]
  },
  {
   "cell_type": "code",
   "execution_count": 35,
   "id": "34ab5e1f",
   "metadata": {},
   "outputs": [],
   "source": [
    "Y_pred2,Y_true2,y_predict2 = predict(model2)"
   ]
  },
  {
   "cell_type": "markdown",
   "id": "6beba007",
   "metadata": {},
   "source": [
    "## Classification Report"
   ]
  },
  {
   "cell_type": "markdown",
   "id": "8052289c",
   "metadata": {},
   "source": [
    "### model without data augmentation"
   ]
  },
  {
   "cell_type": "code",
   "execution_count": 36,
   "id": "9866d7bd",
   "metadata": {},
   "outputs": [
    {
     "name": "stdout",
     "output_type": "stream",
     "text": [
      "              precision    recall  f1-score   support\n",
      "\n",
      "           0       1.00      0.99      0.99       411\n",
      "           1       0.99      0.98      0.99       485\n",
      "           2       0.99      0.99      0.99       403\n",
      "           3       0.97      0.99      0.98       418\n",
      "           4       0.96      0.99      0.98       461\n",
      "           5       0.98      0.98      0.98       372\n",
      "           6       0.98      0.99      0.99       413\n",
      "           7       0.98      0.99      0.99       446\n",
      "           8       0.98      0.98      0.98       382\n",
      "           9       0.99      0.94      0.97       409\n",
      "\n",
      "    accuracy                           0.98      4200\n",
      "   macro avg       0.98      0.98      0.98      4200\n",
      "weighted avg       0.98      0.98      0.98      4200\n",
      "\n"
     ]
    }
   ],
   "source": [
    "print(classification_report(Y_true, Y_pred))"
   ]
  },
  {
   "cell_type": "markdown",
   "id": "08f357b4",
   "metadata": {},
   "source": [
    "### model with data augmentation"
   ]
  },
  {
   "cell_type": "code",
   "execution_count": 37,
   "id": "81ce0744",
   "metadata": {},
   "outputs": [
    {
     "name": "stdout",
     "output_type": "stream",
     "text": [
      "              precision    recall  f1-score   support\n",
      "\n",
      "           0       1.00      1.00      1.00       411\n",
      "           1       1.00      1.00      1.00       485\n",
      "           2       1.00      1.00      1.00       403\n",
      "           3       0.99      1.00      0.99       418\n",
      "           4       0.99      0.99      0.99       461\n",
      "           5       1.00      0.99      0.99       372\n",
      "           6       0.99      1.00      0.99       413\n",
      "           7       1.00      1.00      1.00       446\n",
      "           8       0.99      0.99      0.99       382\n",
      "           9       0.99      0.99      0.99       409\n",
      "\n",
      "    accuracy                           1.00      4200\n",
      "   macro avg       1.00      1.00      1.00      4200\n",
      "weighted avg       1.00      1.00      1.00      4200\n",
      "\n"
     ]
    }
   ],
   "source": [
    "print(classification_report(Y_true2, Y_pred2))"
   ]
  },
  {
   "cell_type": "markdown",
   "id": "8d80a484",
   "metadata": {},
   "source": [
    "## Confusion Matrix"
   ]
  },
  {
   "cell_type": "markdown",
   "id": "3d85db78",
   "metadata": {},
   "source": [
    "### without data augmentation"
   ]
  },
  {
   "cell_type": "code",
   "execution_count": 38,
   "id": "4cc6d3af",
   "metadata": {},
   "outputs": [
    {
     "data": {
      "text/plain": [
       "<AxesSubplot:>"
      ]
     },
     "execution_count": 38,
     "metadata": {},
     "output_type": "execute_result"
    },
    {
     "data": {
      "image/png": "[encoded data removed]",
      "text/plain": [
       "<Figure size 842.4x595.44 with 2 Axes>"
      ]
     },
     "metadata": {},
     "output_type": "display_data"
    }
   ],
   "source": [
    "sns.set(rc={'figure.figsize':(11.7,8.27)})\n",
    "sns.heatmap(confusion_matrix(Y_true, Y_pred), annot=True, cmap='Blues', fmt='g')"
   ]
  },
  {
   "cell_type": "markdown",
   "id": "d1f91723",
   "metadata": {},
   "source": [
    "### with data augmentation"
   ]
  },
  {
   "cell_type": "code",
   "execution_count": 39,
   "id": "eee4a1b7",
   "metadata": {},
   "outputs": [
    {
     "data": {
      "text/plain": [
       "<AxesSubplot:>"
      ]
     },
     "execution_count": 39,
     "metadata": {},
     "output_type": "execute_result"
    },
    {
     "data": {
      "image/png": "[encoded data removed]",
      "text/plain": [
       "<Figure size 842.4x595.44 with 2 Axes>"
      ]
     },
     "metadata": {},
     "output_type": "display_data"
    }
   ],
   "source": [
    "sns.set(rc={'figure.figsize':(11.7,8.27)})\n",
    "sns.heatmap(confusion_matrix(Y_true2, Y_pred2), annot=True, cmap='Blues', fmt='g')"
   ]
  },
  {
   "cell_type": "markdown",
   "id": "25b102b6",
   "metadata": {},
   "source": [
    "## Learning Curve"
   ]
  },
  {
   "cell_type": "code",
   "execution_count": 40,
   "id": "85a6941b",
   "metadata": {},
   "outputs": [
    {
     "data": {
      "image/png": "[encoded data removed]",
      "text/plain": [
       "<Figure size 842.4x595.44 with 1 Axes>"
      ]
     },
     "metadata": {},
     "output_type": "display_data"
    },
    {
     "data": {
      "image/png": "[encoded data removed]",
      "text/plain": [
       "<Figure size 842.4x595.44 with 1 Axes>"
      ]
     },
     "metadata": {},
     "output_type": "display_data"
    }
   ],
   "source": [
    "# summarize history for loss\n",
    "plt.plot(history.history['accuracy'])\n",
    "plt.plot(history.history['val_accuracy'])\n",
    "plt.title('model accuracy')\n",
    "plt.ylabel('accuracy')\n",
    "plt.xlabel('epoch')\n",
    "plt.legend(['train', 'test'], loc='upper left')\n",
    "plt.savefig('4.png')\n",
    "plt.show()\n",
    "# summarize history for loss\n",
    "plt.plot(history.history['loss'])\n",
    "plt.plot(history.history['val_loss'])\n",
    "plt.title('model loss')\n",
    "plt.ylabel('loss')\n",
    "plt.xlabel('epoch')\n",
    "plt.legend(['train', 'test'], loc='upper left')\n",
    "plt.savefig('4.png')\n",
    "plt.show()"
   ]
  },
  {
   "cell_type": "markdown",
   "id": "f2633aa9",
   "metadata": {},
   "source": [
    "## Examen des erreurs "
   ]
  },
  {
   "cell_type": "code",
   "execution_count": 41,
   "id": "2ee636c5",
   "metadata": {},
   "outputs": [
    {
     "data": {
      "image/png": "[encoded data removed]",
      "text/plain": [
       "<Figure size 842.4x595.44 with 6 Axes>"
      ]
     },
     "metadata": {},
     "output_type": "display_data"
    }
   ],
   "source": [
    "# Observons les erreurs du modèle\n",
    "\n",
    "# Les erreur sont la difference entre les valeurs de prediction et les vrais valeurs \n",
    "errors = (Y_pred2 - Y_true2 != 0)\n",
    "\n",
    "Y_pred_classes_errors = Y_pred2[errors]\n",
    "Y_pred_errors = y_predict2[errors]\n",
    "Y_true_errors = Y_true2[errors]\n",
    "X_val_errors = X_test[errors]\n",
    "\n",
    "def display_errors(errors_index,img_errors,pred_errors, obs_errors):\n",
    "    \"\"\" This function shows 6 images with their predicted and real labels\"\"\"\n",
    "    n = 0\n",
    "    nrows = 2\n",
    "    ncols = 3\n",
    "    fig, ax = plt.subplots(nrows,ncols,sharex=True,sharey=True)\n",
    "    plt.subplots_adjust(hspace = 0.5)\n",
    "    for row in range(nrows):\n",
    "        for col in range(ncols):\n",
    "            error = errors_index[n]\n",
    "            ax[row,col].imshow((img_errors[error]).reshape((28,28)))\n",
    "            ax[row,col].set_title(\"Predicted label :{}\\nTrue label :{}\".format(pred_errors[error],obs_errors[error]))\n",
    "            n += 1\n",
    "\n",
    "Y_pred_errors_prob = np.max(Y_pred_errors,axis = 1)\n",
    "\n",
    "true_prob_errors = np.diagonal(np.take(Y_pred_errors, Y_true_errors, axis=1))\n",
    "\n",
    "delta_pred_true_errors = Y_pred_errors_prob - true_prob_errors\n",
    "\n",
    "sorted_dela_errors = np.argsort(delta_pred_true_errors)\n",
    "\n",
    "most_important_errors = sorted_dela_errors[-6:]\n",
    "\n",
    "display_errors(most_important_errors, X_val_errors, Y_pred_classes_errors, Y_true_errors)"
   ]
  },
  {
   "cell_type": "markdown",
   "id": "e668cab7",
   "metadata": {},
   "source": [
    "# Save model"
   ]
  },
  {
   "cell_type": "code",
   "execution_count": 42,
   "id": "18bcd190",
   "metadata": {},
   "outputs": [],
   "source": [
    "from tensorflow.keras.models import save_model, load_model"
   ]
  },
  {
   "cell_type": "code",
   "execution_count": 44,
   "id": "d586fab6",
   "metadata": {},
   "outputs": [],
   "source": [
    "save_model(model2,'model_datagen2.h5')"
   ]
  }
 ],
 "metadata": {
  "kernelspec": {
   "display_name": "Python 3 (ipykernel)",
   "language": "python",
   "name": "python3"
  },
  "language_info": {
   "codemirror_mode": {
    "name": "ipython",
    "version": 3
   },
   "file_extension": ".py",
   "mimetype": "text/x-python",
   "name": "python",
   "nbconvert_exporter": "python",
   "pygments_lexer": "ipython3",
   "version": "3.8.8"
  },
  "toc": {
   "base_numbering": 1,
   "nav_menu": {},
   "number_sections": true,
   "sideBar": true,
   "skip_h1_title": false,
   "title_cell": "Table of Contents",
   "title_sidebar": "Contents",
   "toc_cell": false,
   "toc_position": {},
   "toc_section_display": true,
   "toc_window_display": false
  },
  "varInspector": {
   "cols": {
    "lenName": 16,
    "lenType": 16,
    "lenVar": 40
   },
   "kernels_config": {
    "python": {
     "delete_cmd_postfix": "",
     "delete_cmd_prefix": "del ",
     "library": "var_list.py",
     "varRefreshCmd": "print(var_dic_list())"
    },
    "r": {
     "delete_cmd_postfix": ") ",
     "delete_cmd_prefix": "rm(",
     "library": "var_list.r",
     "varRefreshCmd": "cat(var_dic_list()) "
    }
   },
   "types_to_exclude": [
    "module",
    "function",
    "builtin_function_or_method",
    "instance",
    "_Feature"
   ],
   "window_display": false
  }
 },
 "nbformat": 4,
 "nbformat_minor": 5
}
